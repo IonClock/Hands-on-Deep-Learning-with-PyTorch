{
 "cells": [
  {
   "cell_type": "code",
   "execution_count": 1,
   "metadata": {
    "collapsed": true
   },
   "outputs": [],
   "source": [
    "# -*- coding: utf-8 -*-\n",
    "\n",
    "'''\n",
    "@Author   :   Corley Tang\n",
    "@contact  :   cutercorleytd@gmail.com\n",
    "@Github   :   https://github.com/corleytd\n",
    "@Time     :   2023-01-11 19:14\n",
    "@Project  :   Hands-on Deep Learning with PyTorch-tensor_linear_algebra\n",
    "张量的线性代数运算\n",
    "'''\n",
    "\n",
    "# 导入所需的库\n",
    "import warnings\n",
    "\n",
    "import torch\n",
    "from matplotlib import pyplot as plt\n",
    "\n",
    "warnings.filterwarnings('ignore', category=UserWarning)"
   ]
  },
  {
   "cell_type": "markdown",
   "source": [
    "## 1.BLAS和LAPACK概览\n",
    "BLAS（Basic Linear Algeria Subprograms）和LAPACK（Linear Algeria Package）模块提供了完整的线性代数基本方法，函数种类较多，因此此处进行简单分类如下：\n",
    "- **矩阵的形变及特殊矩阵的构造方法**：包括矩阵的转置、对角矩阵的创建、单位矩阵的创建、上/下三角矩阵的创建等\n",
    "- **矩阵的基本运算**：包括矩阵乘法、向量内积、矩阵和向量的乘法等，当然，此处还包含了高维张量的基本运算，将着重探讨矩阵的基本运算拓展至三维张量中的基本方法\n",
    "- **矩阵的线性代数运算**：包括矩阵的迹、矩阵的秩、逆矩阵的求解、伴随矩阵和广义逆矩阵等\n",
    "- **矩阵分解运算**：特征分解和SVD分解（奇异值分解）等\n",
    "\n",
    "矩阵的两种理解方式：\n",
    "- 高维空间中的数据点的集合\n",
    "- 方程组的简写形式\n",
    "\n",
    "## 2.矩阵的形变及特殊矩阵构造方法\n",
    "矩阵的形变方法其实也就是二维张量的形变方法，在实际线性代数运算过程中，经常涉及一些特殊矩阵，如单位矩阵、对角矩阵等。"
   ],
   "metadata": {
    "collapsed": false
   }
  },
  {
   "cell_type": "code",
   "execution_count": 2,
   "outputs": [
    {
     "data": {
      "text/plain": "(tensor([[83, 86, 80, 28],\n         [91, 59, 75, 69],\n         [55, 93, 35, 30]]),\n tensor([[83, 91, 55],\n         [86, 59, 93],\n         [80, 75, 35],\n         [28, 69, 30]]),\n tensor([[83, 91, 55],\n         [86, 59, 93],\n         [80, 75, 35],\n         [28, 69, 30]]))"
     },
     "execution_count": 2,
     "metadata": {},
     "output_type": "execute_result"
    }
   ],
   "source": [
    "# 转置\n",
    "t1 = torch.randint(1, 100, size=(3, 4))\n",
    "t1, torch.t(t1), t1.t()"
   ],
   "metadata": {
    "collapsed": false
   }
  },
  {
   "cell_type": "code",
   "execution_count": 3,
   "outputs": [
    {
     "data": {
      "text/plain": "tensor([[1., 0., 0., 0., 0.],\n        [0., 1., 0., 0., 0.],\n        [0., 0., 1., 0., 0.],\n        [0., 0., 0., 1., 0.],\n        [0., 0., 0., 0., 1.]])"
     },
     "execution_count": 3,
     "metadata": {},
     "output_type": "execute_result"
    }
   ],
   "source": [
    "# 单位矩阵\n",
    "torch.eye(5)"
   ],
   "metadata": {
    "collapsed": false
   }
  },
  {
   "cell_type": "code",
   "execution_count": 4,
   "outputs": [
    {
     "data": {
      "text/plain": "(tensor([[ 9,  0,  0,  0,  0],\n         [ 0, 13,  0,  0,  0],\n         [ 0,  0, 10,  0,  0],\n         [ 0,  0,  0,  7,  0],\n         [ 0,  0,  0,  0,  6]]),\n tensor([[ 9,  0,  0,  0,  0],\n         [ 0, 13,  0,  0,  0],\n         [ 0,  0, 10,  0,  0],\n         [ 0,  0,  0,  7,  0],\n         [ 0,  0,  0,  0,  6]]),\n tensor([[ 0,  0,  9,  0,  0,  0,  0],\n         [ 0,  0,  0, 13,  0,  0,  0],\n         [ 0,  0,  0,  0, 10,  0,  0],\n         [ 0,  0,  0,  0,  0,  7,  0],\n         [ 0,  0,  0,  0,  0,  0,  6],\n         [ 0,  0,  0,  0,  0,  0,  0],\n         [ 0,  0,  0,  0,  0,  0,  0]]),\n tensor([[ 0,  0,  0,  0,  0,  0,  0],\n         [ 0,  0,  0,  0,  0,  0,  0],\n         [ 9,  0,  0,  0,  0,  0,  0],\n         [ 0, 13,  0,  0,  0,  0,  0],\n         [ 0,  0, 10,  0,  0,  0,  0],\n         [ 0,  0,  0,  7,  0,  0,  0],\n         [ 0,  0,  0,  0,  6,  0,  0]]))"
     },
     "execution_count": 4,
     "metadata": {},
     "output_type": "execute_result"
    }
   ],
   "source": [
    "# 对角矩阵，对角矩阵上移，对角矩阵下移\n",
    "t2 = torch.randint(1, 20, size=(5,))\n",
    "torch.diag(t2), t2.diag(), torch.diag(t2, diagonal=2), torch.diag(t2, -2)"
   ],
   "metadata": {
    "collapsed": false
   }
  },
  {
   "cell_type": "code",
   "execution_count": 5,
   "outputs": [
    {
     "data": {
      "text/plain": "(tensor([[21,  8, 20,  7],\n         [10, 26, 27,  6],\n         [28, 27, 17,  1],\n         [12,  5, 19,  1]]),\n tensor([[21,  8, 20,  7],\n         [ 0, 26, 27,  6],\n         [ 0,  0, 17,  1],\n         [ 0,  0,  0,  1]]),\n tensor([[21,  8, 20,  7],\n         [10, 26, 27,  6],\n         [ 0, 27, 17,  1],\n         [ 0,  0, 19,  1]]),\n tensor([[ 0,  8, 20,  7],\n         [ 0,  0, 27,  6],\n         [ 0,  0,  0,  1],\n         [ 0,  0,  0,  0]]))"
     },
     "execution_count": 5,
     "metadata": {},
     "output_type": "execute_result"
    }
   ],
   "source": [
    "# 上三角矩阵，上三角矩阵左下偏移，上三角矩阵右上偏移\n",
    "t3 = torch.randint(1, 30, size=(4, 4))\n",
    "t3, torch.triu(t3), t3.triu(-1), t3.triu(1)"
   ],
   "metadata": {
    "collapsed": false
   }
  },
  {
   "cell_type": "code",
   "execution_count": 6,
   "outputs": [
    {
     "data": {
      "text/plain": "(tensor([[21,  8, 20,  7],\n         [10, 26, 27,  6],\n         [28, 27, 17,  1],\n         [12,  5, 19,  1]]),\n tensor([[21,  0,  0,  0],\n         [10, 26,  0,  0],\n         [28, 27, 17,  0],\n         [12,  5, 19,  1]]),\n tensor([[ 0,  0,  0,  0],\n         [10,  0,  0,  0],\n         [28, 27,  0,  0],\n         [12,  5, 19,  0]]),\n tensor([[21,  8,  0,  0],\n         [10, 26, 27,  0],\n         [28, 27, 17,  1],\n         [12,  5, 19,  1]]))"
     },
     "execution_count": 6,
     "metadata": {},
     "output_type": "execute_result"
    }
   ],
   "source": [
    "# 下三角矩阵，下三角矩阵左下偏移，下三角矩阵右上偏移\n",
    "t3, torch.tril(t3), torch.tril(t3, -1), t3.tril(1)"
   ],
   "metadata": {
    "collapsed": false
   }
  },
  {
   "cell_type": "markdown",
   "source": [
    "## 3.矩阵的基本运算\n",
    "矩阵不同于普通的二维数组，其具备一定的线性代数含义，而这些特殊的性质，其实就主要体现在矩阵的基本运算上。"
   ],
   "metadata": {
    "collapsed": false
   }
  },
  {
   "cell_type": "code",
   "execution_count": 7,
   "outputs": [
    {
     "data": {
      "text/plain": "(tensor(435), tensor(435))"
     },
     "execution_count": 7,
     "metadata": {},
     "output_type": "execute_result"
    }
   ],
   "source": [
    "# 1.dot、vdot——点积计算：只能作用于一维张量，且对于数值型对象，二者计算结果并没有区别，两种函数只在进行复数运算时会有区别\n",
    "# torch.dot(t1, t1)  # RuntimeError，只支持一维张量\n",
    "torch.dot(t2, t2), t2.vdot(t2)"
   ],
   "metadata": {
    "collapsed": false
   }
  },
  {
   "cell_type": "code",
   "execution_count": 8,
   "outputs": [
    {
     "data": {
      "text/plain": "(torch.Size([3, 4]), torch.Size([4, 4]))"
     },
     "execution_count": 8,
     "metadata": {},
     "output_type": "execute_result"
    }
   ],
   "source": [
    "# 2.mm——矩阵乘法\n",
    "t1.shape, t3.shape"
   ],
   "metadata": {
    "collapsed": false
   }
  },
  {
   "cell_type": "code",
   "execution_count": 9,
   "outputs": [
    {
     "data": {
      "text/plain": "tensor([[5179, 5200, 5874, 1205],\n        [5429, 4632, 5999, 1135],\n        [3425, 3953, 4776, 1008]])"
     },
     "execution_count": 9,
     "metadata": {},
     "output_type": "execute_result"
    }
   ],
   "source": [
    "# 矩阵乘法\n",
    "torch.mm(t1, t3)"
   ],
   "metadata": {
    "collapsed": false
   }
  },
  {
   "cell_type": "code",
   "execution_count": 10,
   "outputs": [
    {
     "data": {
      "text/plain": "tensor([[6889, 7396, 6400,  784],\n        [8281, 3481, 5625, 4761],\n        [3025, 8649, 1225,  900]])"
     },
     "execution_count": 10,
     "metadata": {},
     "output_type": "execute_result"
    }
   ],
   "source": [
    "# 对应位置相乘\n",
    "t1 * t1"
   ],
   "metadata": {
    "collapsed": false
   }
  },
  {
   "cell_type": "code",
   "execution_count": 11,
   "outputs": [
    {
     "data": {
      "text/plain": "(tensor([3148, 3277, 2572]),\n tensor([[3148],\n         [3277],\n         [2572]]),\n tensor([3148, 3277, 2572]))"
     },
     "execution_count": 11,
     "metadata": {},
     "output_type": "execute_result"
    }
   ],
   "source": [
    "# 3.mv——矩阵和向量相乘：可以看作先将向量转化为列向量再相乘，需要矩阵的列数和向量的元素个数保持相同，应用场景较多，例如线性方程组求解\n",
    "t4 = torch.randint(1, 20, size=(4,))\n",
    "torch.mv(t1, t4), torch.mm(t1, t4.reshape(-1, 1)), torch.mm(t1, t4.reshape(-1, 1)).flatten()"
   ],
   "metadata": {
    "collapsed": false
   }
  },
  {
   "cell_type": "code",
   "execution_count": 12,
   "outputs": [
    {
     "data": {
      "text/plain": "(torch.Size([3, 2, 2]), torch.Size([3, 2, 3]))"
     },
     "execution_count": 12,
     "metadata": {},
     "output_type": "execute_result"
    }
   ],
   "source": [
    "# 4.bmm——批量矩阵相乘：三维张量的矩阵相乘，是三维张量内部各对应位置的矩阵相乘，需要两个矩阵第一维大小相同、二三维满足矩阵乘法的条件\n",
    "t5 = torch.randint(1, 20, size=(3, 2, 2))\n",
    "t6 = torch.randint(1, 20, size=(3, 2, 3))\n",
    "t5.shape, t6.shape"
   ],
   "metadata": {
    "collapsed": false
   }
  },
  {
   "cell_type": "code",
   "execution_count": 13,
   "outputs": [
    {
     "data": {
      "text/plain": "(torch.Size([3, 2, 3]),\n tensor([[[334, 194, 394],\n          [340, 188, 292]],\n \n         [[163, 157,  74],\n          [178, 166,  76]],\n \n         [[290, 262, 296],\n          [375, 295, 360]]]))"
     },
     "execution_count": 13,
     "metadata": {},
     "output_type": "execute_result"
    }
   ],
   "source": [
    "t56_bnn = torch.bmm(t5, t6)\n",
    "t56_bnn.shape, t56_bnn"
   ],
   "metadata": {
    "collapsed": false
   }
  },
  {
   "cell_type": "code",
   "execution_count": 14,
   "outputs": [
    {
     "data": {
      "text/plain": "(torch.Size([4]), torch.Size([3, 4]), torch.Size([4, 4]))"
     },
     "execution_count": 14,
     "metadata": {},
     "output_type": "execute_result"
    }
   ],
   "source": [
    "# 5.addmm——矩阵相乘再相加\n",
    "t4.shape, t1.shape, t3.shape"
   ],
   "metadata": {
    "collapsed": false
   }
  },
  {
   "cell_type": "code",
   "execution_count": 15,
   "outputs": [
    {
     "data": {
      "text/plain": "(tensor([[5191, 5214, 5882, 1216],\n         [5441, 4646, 6007, 1146],\n         [3437, 3967, 4784, 1019]]),\n tensor([[5191, 5214, 5882, 1216],\n         [5441, 4646, 6007, 1146],\n         [3437, 3967, 4784, 1019]]),\n tensor([[15561, 15628, 17638,  3637],\n         [16311, 13924, 18013,  3427],\n         [10299, 11887, 14344,  3046]]))"
     },
     "execution_count": 15,
     "metadata": {},
     "output_type": "execute_result"
    }
   ],
   "source": [
    "torch.addmm(t4, t1, t3), t4 + torch.mm(t1, t3), torch.addmm(t4, t1, t3, beta=2, alpha=3)"
   ],
   "metadata": {
    "collapsed": false
   }
  },
  {
   "cell_type": "code",
   "execution_count": 16,
   "outputs": [
    {
     "data": {
      "text/plain": "(tensor([[793, 619, 776],\n         [894, 668, 733]]),\n tensor([[793, 619, 776],\n         [894, 668, 733]]))"
     },
     "execution_count": 16,
     "metadata": {},
     "output_type": "execute_result"
    }
   ],
   "source": [
    "# 6.addbmm——批量矩阵相乘再相加，会对批量相乘后的三维张量第一个维度求和\n",
    "t7 = torch.randint(1, 20, size=(2, 3))\n",
    "torch.addbmm(t7, t5, t6), t7 + torch.bmm(t5, t6).sum(0)"
   ],
   "metadata": {
    "collapsed": false
   }
  },
  {
   "cell_type": "markdown",
   "source": [
    "# 4.矩阵的线性代数运算"
   ],
   "metadata": {
    "collapsed": false
   }
  },
  {
   "cell_type": "code",
   "execution_count": 17,
   "outputs": [
    {
     "data": {
      "text/plain": "(tensor(65), tensor(65), tensor(177))"
     },
     "execution_count": 17,
     "metadata": {},
     "output_type": "execute_result"
    }
   ],
   "source": [
    "# 1.trace——矩阵的迹：矩阵对角线元素之和，并不一定要求是方阵\n",
    "torch.trace(t3), t3.trace(), t1.trace()"
   ],
   "metadata": {
    "collapsed": false
   }
  },
  {
   "cell_type": "code",
   "execution_count": 18,
   "outputs": [
    {
     "data": {
      "text/plain": "(tensor(2), tensor(1))"
     },
     "execution_count": 18,
     "metadata": {},
     "output_type": "execute_result"
    }
   ],
   "source": [
    "# 2.rank——矩阵的秩：矩阵中行或列的极大线性无关数，且矩阵中行、列极大无关数总是相同的，任何矩阵的秩都是唯一值，满秩指的是方阵（行数和列数相同的矩阵）中行数、列数和秩相同，满秩矩阵有线性唯一解等重要特性，而其他矩阵也能通过求解秩来降维\n",
    "t8 = torch.tensor([[1., 3], [2, 6]])\n",
    "torch.matrix_rank(t7.to(torch.float)), torch.matrix_rank(t8)"
   ],
   "metadata": {
    "collapsed": false
   }
  },
  {
   "cell_type": "code",
   "execution_count": 19,
   "outputs": [
    {
     "data": {
      "text/plain": "(tensor(66746.), tensor(-0.))"
     },
     "execution_count": 19,
     "metadata": {},
     "output_type": "execute_result"
    }
   ],
   "source": [
    "# 3.det——矩阵的行列式：矩阵的一个基本性质或者属性，通过行列式的计算，可以知道矩阵是否可逆，从而进一步求解矩阵所对应的线性方程，是矩阵进行线性变换的伸缩因子\n",
    "t3 = t3.float()\n",
    "torch.det(t3), t8.det()"
   ],
   "metadata": {
    "collapsed": false
   }
  },
  {
   "cell_type": "code",
   "execution_count": 20,
   "outputs": [
    {
     "data": {
      "text/plain": "<Figure size 640x480 with 1 Axes>",
      "image/png": "[encoded data removed]"
     },
     "metadata": {},
     "output_type": "display_data"
    }
   ],
   "source": [
    "# 4.线性方程组的矩阵表达形式——逆矩阵\n",
    "plt.plot(t8[:, 0], t8[:, 1], 'o')\n",
    "plt.show()"
   ],
   "metadata": {
    "collapsed": false
   }
  },
  {
   "cell_type": "code",
   "execution_count": 21,
   "outputs": [
    {
     "data": {
      "text/plain": "(tensor([[ 0.0288, -0.0381,  0.0284, -0.0017],\n         [-0.0227,  0.0290,  0.0228, -0.0377],\n         [-0.0195,  0.0143, -0.0213,  0.0719],\n         [ 0.1381,  0.0402, -0.0505, -0.1573]]),\n tensor([[ 0.0288, -0.0381,  0.0284, -0.0017],\n         [-0.0227,  0.0290,  0.0228, -0.0377],\n         [-0.0195,  0.0143, -0.0213,  0.0719],\n         [ 0.1381,  0.0402, -0.0505, -0.1573]]))"
     },
     "execution_count": 21,
     "metadata": {},
     "output_type": "execute_result"
    }
   ],
   "source": [
    "# inverse函数：逆矩阵\n",
    "t3_inverse = torch.inverse(t3)\n",
    "t3_inverse, t3.inverse()"
   ],
   "metadata": {
    "collapsed": false
   }
  },
  {
   "cell_type": "code",
   "execution_count": 22,
   "outputs": [
    {
     "data": {
      "text/plain": "(tensor([[ 1.0000e+00,  0.0000e+00,  2.9802e-08,  2.3842e-07],\n         [-1.1921e-07,  1.0000e+00,  8.9407e-08,  2.3842e-07],\n         [-2.0862e-07, -5.9605e-08,  1.0000e+00,  3.5763e-07],\n         [-8.1956e-08,  0.0000e+00, -5.2154e-08,  1.0000e+00]]),\n tensor([[ 1.0000e+00,  0.0000e+00,  0.0000e+00, -1.4901e-08],\n         [ 5.9605e-08,  1.0000e+00, -2.2352e-08, -1.4901e-08],\n         [ 0.0000e+00,  0.0000e+00,  1.0000e+00,  0.0000e+00],\n         [ 1.1921e-07,  2.0862e-07,  0.0000e+00,  1.0000e+00]]))"
     },
     "execution_count": 22,
     "metadata": {},
     "output_type": "execute_result"
    }
   ],
   "source": [
    "torch.mm(t3, t3_inverse), torch.mm(t3_inverse, t3)"
   ],
   "metadata": {
    "collapsed": false
   }
  },
  {
   "cell_type": "code",
   "execution_count": 23,
   "outputs": [
    {
     "data": {
      "text/plain": "tensor([ 0.3661, -0.1311, -0.0135,  1.5187])"
     },
     "execution_count": 23,
     "metadata": {},
     "output_type": "execute_result"
    }
   ],
   "source": [
    "# t3 * x = t9 -> x = t3_reverse * t9\n",
    "t9 = torch.randint(1, 20, size=(t3.size(0),), dtype=torch.float)\n",
    "res = torch.mv(t3_inverse, t9)\n",
    "res  # y = res[0] * x1 + res[1] * x2 + res[2] * x3 + res[4]"
   ],
   "metadata": {
    "collapsed": false
   }
  },
  {
   "cell_type": "markdown",
   "source": [
    "## 5.矩阵的分解\n",
    "矩阵的分解也是矩阵运算中的常规计算，矩阵分解也有很多种类，常见的例如**QR分解**、**LU分解**、**特征分解**、**SVD分解**等等，虽然大多数情况下，矩阵分解都是在形式上将矩阵拆分成几种特殊矩阵的乘积，但本质上，矩阵的分解是去探索矩阵更深层次的一些属性。"
   ],
   "metadata": {
    "collapsed": false
   }
  },
  {
   "cell_type": "code",
   "execution_count": 24,
   "outputs": [
    {
     "data": {
      "text/plain": "(torch.return_types.eig(\n eigenvalues=tensor([[64.2417,  0.0000],\n         [14.9217,  0.0000],\n         [-7.0817,  4.4134],\n         [-7.0817, -4.4134]]),\n eigenvectors=tensor([[-0.4384,  0.6602,  0.0846, -0.1704],\n         [-0.5893, -0.6935,  0.2164, -0.1932],\n         [-0.6032, -0.0239, -0.4340,  0.3352],\n         [-0.3110,  0.2874,  0.7609,  0.0000]])),\n torch.return_types.eig(\n eigenvalues=tensor([[64.2417,  0.0000],\n         [14.9217,  0.0000],\n         [-7.0817,  4.4134],\n         [-7.0817, -4.4134]]),\n eigenvectors=tensor([[-0.4384,  0.6602,  0.0846, -0.1704],\n         [-0.5893, -0.6935,  0.2164, -0.1932],\n         [-0.6032, -0.0239, -0.4340,  0.3352],\n         [-0.3110,  0.2874,  0.7609,  0.0000]])))"
     },
     "execution_count": 24,
     "metadata": {},
     "output_type": "execute_result"
    }
   ],
   "source": [
    "# 1.eig——特征分解：A = V * diag(λ) * V-1，只能作用于方阵，输出值分别表示特征值和Q矩阵\n",
    "torch.eig(t3, eigenvectors=True), t3.float().eig(eigenvectors=True)"
   ],
   "metadata": {
    "collapsed": false
   }
  },
  {
   "cell_type": "code",
   "execution_count": 25,
   "outputs": [
    {
     "data": {
      "text/plain": "(tensor([[-0.2609,  0.7254, -0.0909, -0.6304],\n         [-0.6536, -0.3113,  0.6650, -0.1836],\n         [-0.6885, -0.1319, -0.6748,  0.2306],\n         [-0.1751,  0.5995,  0.3069,  0.7181]]),\n tensor([1.3195e+02, 2.3625e+01, 1.4831e+01, 3.4246e-07]),\n tensor([[-2.5310e-01,  6.6131e-01, -7.0613e-01,  1.6477e-07],\n         [-2.9214e-01, -1.2077e-01, -8.3913e-03, -9.4868e-01],\n         [-2.8722e-01,  6.4562e-01,  7.0759e-01, -1.9252e-08],\n         [-8.7641e-01, -3.6230e-01, -2.5174e-02,  3.1623e-01]]))"
     },
     "execution_count": 25,
     "metadata": {},
     "output_type": "execute_result"
    }
   ],
   "source": [
    "# 2.SVD——奇异值分解：A = U Σ VT，U、V是正交矩阵\n",
    "t3[:, -1] = t3[:, 1] * 3\n",
    "u, s, v = torch.svd(t3)\n",
    "u, s, v"
   ],
   "metadata": {
    "collapsed": false
   }
  },
  {
   "cell_type": "code",
   "execution_count": 26,
   "outputs": [
    {
     "data": {
      "text/plain": "(tensor([[1.3195e+02, 0.0000e+00, 0.0000e+00, 0.0000e+00],\n         [0.0000e+00, 2.3625e+01, 0.0000e+00, 0.0000e+00],\n         [0.0000e+00, 0.0000e+00, 1.4831e+01, 0.0000e+00],\n         [0.0000e+00, 0.0000e+00, 0.0000e+00, 3.4246e-07]]),\n tensor([[21.0000,  8.0000, 20.0000, 24.0000],\n         [10.0000, 26.0000, 27.0000, 78.0000],\n         [28.0000, 27.0000, 17.0000, 81.0000],\n         [12.0000,  5.0000, 19.0000, 15.0000]]))"
     },
     "execution_count": 26,
     "metadata": {},
     "output_type": "execute_result"
    }
   ],
   "source": [
    "# 验证SVD\n",
    "torch.diag(s), torch.mm(torch.mm(u, torch.diag(s)), v.t())"
   ],
   "metadata": {
    "collapsed": false
   }
  },
  {
   "cell_type": "code",
   "execution_count": 27,
   "outputs": [
    {
     "data": {
      "text/plain": "tensor([[21.0000,  8.0000, 20.0000, 24.0000],\n        [10.0000, 26.0000, 27.0000, 78.0000],\n        [28.0000, 27.0000, 17.0000, 81.0000],\n        [12.0000,  5.0000, 19.0000, 15.0000]])"
     },
     "execution_count": 27,
     "metadata": {},
     "output_type": "execute_result"
    }
   ],
   "source": [
    "# 根据SVD结果进行降维：4 -> 3\n",
    "u_reduced = u[:, [0, 1, 2]]\n",
    "s_reduced = s[[0, 1, 2]]\n",
    "v_reduced = v[:, [0, 1, 2]].t()\n",
    "torch.mm(u_reduced * s_reduced, v_reduced)  # 得到的新矩阵与原矩阵t3（几乎）一致"
   ],
   "metadata": {
    "collapsed": false
   }
  }
 ],
 "metadata": {
  "kernelspec": {
   "display_name": "Python 3",
   "language": "python",
   "name": "python3"
  },
  "language_info": {
   "codemirror_mode": {
    "name": "ipython",
    "version": 2
   },
   "file_extension": ".py",
   "mimetype": "text/x-python",
   "name": "python",
   "nbconvert_exporter": "python",
   "pygments_lexer": "ipython2",
   "version": "2.7.6"
  }
 },
 "nbformat": 4,
 "nbformat_minor": 0
}
